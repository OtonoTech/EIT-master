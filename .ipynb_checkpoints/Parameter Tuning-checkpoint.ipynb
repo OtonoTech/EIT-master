{
 "cells": [
  {
   "cell_type": "markdown",
   "metadata": {},
   "source": [
    "# Parameter Tuning for Stock Selection Models"
   ]
  },
  {
   "cell_type": "code",
   "execution_count": 1,
   "metadata": {},
   "outputs": [],
   "source": [
    "\"\"\"Import Modules\"\"\"\n",
    "# Numerical Computation\n",
    "import numpy as np\n",
    "import pandas as pd\n",
    "import random\n",
    "# Data Processing\n",
    "from data_pipeline import *\n",
    "from sklearn import preprocessing\n",
    "## Training\n",
    "from train import ModelClass, MonteCarlo\n",
    "from sklearn.model_selection import ParameterGrid\n",
    "import time "
   ]
  },
  {
   "cell_type": "code",
   "execution_count": 12,
   "metadata": {},
   "outputs": [
    {
     "name": "stdout",
     "output_type": "stream",
     "text": [
      "- Loading Data\n",
      "- Data Preprocessing\n",
      "ratio of true labels: 0.3724094546709313\n"
     ]
    }
   ],
   "source": [
    "\"\"\"**************Hyperparameters************\"\"\"\n",
    "path = r'../../data/adj_daily'\n",
    "start = '2007-12-31'\n",
    "end = '2019-8-5' #'2019-11-5'\n",
    "split = '2014-1-1'\n",
    "nTrain = 8*12*20 # 8 years \n",
    "nVal = 1*12*20 # 1 year\n",
    "thr = 0.005\n",
    "\n",
    "\"\"\"**************Loading Data*****************\"\"\"\n",
    "print(\"- Loading Data\")\n",
    "\n",
    "#\n",
    "#price_df = load_data(path,'Open')\n",
    "#price_df.to_csv('__datacache__/price_open_df.csv',index=False)\n",
    "\n",
    "# stock prices\n",
    "price_df = pd.read_csv('__datacache__/price_open_df.csv')\n",
    "price_df['datetime'] = pd.to_datetime(price_df['datetime'])\n",
    "\n",
    "# benchmark prices\n",
    "benchmark_df = pd.read_csv('__datacache__/SPY_adj.csv')[['date','Open']]\n",
    "benchmark_df['date'] = pd.to_datetime(benchmark_df['date'])\n",
    "benchmark_df = benchmark_df.rename(columns = {'date':'datetime'})\n",
    "benchmark_df.insert(0, 'ticker', 'SPY')\n",
    "\n",
    "\n",
    "\"\"\"**************Data Preprocessing**************\"\"\"\n",
    "print(\"- Data Preprocessing\")\n",
    "X, Y, dt_map= bulk_process(price_df, 'Open', start, end)\n",
    "Y_label = (Y>thr).astype(int)\n",
    "print(\"ratio of true labels:\",Y_label.sum()/len(Y))\n",
    "\n",
    "NTrain, NTest = calc_datepoints(dt_map, start, split, end)\n",
    "\n",
    "# train-test split\n",
    "idx = train_test_split(NTrain, NTest, dt_map, start=0, window = 'single')\n",
    "for d, (idx_train, idx_test) in enumerate(idx):\n",
    "    X_train, X_test = X[idx_train],X[idx_test]\n",
    "    Y_train_label, Y_test_label = Y_label[idx_train],Y_label[idx_test]\n",
    "    train_map = dt_map.iloc[idx_train,:].reset_index(drop=True)\n",
    "    test_map = dt_map.iloc[idx_test,:].reset_index(drop=True)\n",
    "\n",
    "# # Standarization if necessary\n",
    "# scaler = preprocessing.StandardScaler()\n",
    "# X_train = scaler.fit_transform(X_train)     \n",
    "# X_test = scaler.transform(X_test)  \n"
   ]
  },
  {
   "cell_type": "markdown",
   "metadata": {},
   "source": [
    "## Random Forest"
   ]
  },
  {
   "cell_type": "markdown",
   "metadata": {},
   "source": [
    "* n_estimators"
   ]
  },
  {
   "cell_type": "code",
   "execution_count": 10,
   "metadata": {},
   "outputs": [
    {
     "name": "stdout",
     "output_type": "stream",
     "text": [
      "- Parameter Tuning\n",
      "----------------Start Parameter Set: n_estimators= 140 max_depth= 10 min_samples_split= 40 ----------------\n",
      "----Now processing Repeat: 1----\n",
      "---- Now processing Window 1/1 -----\n",
      "----Rep 1 finished in 164.93 seconds----\n",
      " train accuracy: 0.6340, train precision: 0.5722, val accuracy: 0.5620, val precision: 0.4557, true signal: 0.4131\n",
      "******** average accuracy: 0.5620057148124251 average precision: 0.45569814295725297  ********\n",
      "best parameter set is {'max_depth': 10, 'min_samples_split': 40, 'n_estimators': 140}, with Accuracy is 0.5620\n",
      "best parameter set is {'max_depth': 10, 'min_samples_split': 40, 'n_estimators': 140}, with Precision is 0.4557\n",
      "finsied in 166.45820832252502 seconds\n"
     ]
    }
   ],
   "source": [
    "print(\"- Parameter Tuning\")\n",
    "\n",
    "n_estimators = range(120,170,20)\n",
    "max_depth = range(18,3,-2)\n",
    "min_samples_split = range(5,200,20)\n",
    "\n",
    "param_grid={'n_estimators':n_estimators, 'max_depth':max_depth,'min_samples_split':min_samples_split}\n",
    "param_grid = list(ParameterGrid(param_grid))\n",
    "\n",
    "window = 'single'\n",
    "w = 40\n",
    "nReps = 1\n",
    "\n",
    "scores_rf = pd.DataFrame()\n",
    "best_scores_prec= 0\n",
    "best_scores_acc = 0\n",
    "start_time = time.time()\n",
    "for j, param_set in enumerate(param_grid):\n",
    "    print('----------------Start Parameter Set: n_estimators=',param_set.get('n_estimators'),\n",
    "          'max_depth=',param_set.get('max_depth'),\n",
    "          'min_samples_split=',param_set.get('min_samples_split'),\n",
    "          '----------------')\n",
    "    rf = ModelClass(model_type='rf',\n",
    "                       n_estimators=param_set.get('n_estimators'), \n",
    "                       oob_score=True, \n",
    "                       max_depth=param_set.get('max_depth'), \n",
    "                       min_samples_split=param_set.get('min_samples_split'), \n",
    "                       min_samples_leaf=5,\n",
    "                       max_features = \"auto\",\n",
    "                       class_weight = {0:1,1:1.25},\n",
    "                       n_jobs = -1)\n",
    "    rf_mc = MonteCarlo(rf, X_train, Y_train_label, nTrain, nVal, nReps = nReps, window=window, verbose = 0, seed =j)\n",
    "    cur_score = rf_mc.experiment(train_map)\n",
    "    tmp = pd.DataFrame(cur_score.reshape(1,6), columns = ['Accuracy','Precision','Recall', 'F1', 'TPR', 'FPR'])\n",
    "    tmp['n_estimators']=param_set.get('n_estimators')\n",
    "    tmp['max_depth']=param_set.get('max_depth')\n",
    "    tmp['min_samples_split']=param_set.get('min_samples_split')\n",
    "    scores_rf = scores_rf.append(tmp)\n",
    "    if best_scores_acc < cur_score[0]:\n",
    "        best_scores_acc = cur_score[0]\n",
    "        best_param_acc = param_set\n",
    "        \n",
    "    if best_scores_prec < cur_score[1]:\n",
    "        best_scores_prec = cur_score[1]\n",
    "        best_param_prec = param_set\n",
    "    print(\"******** average accuracy:\",cur_score[0],\"average precision:\",cur_score[1],\" ********\")\n",
    "print(\"best parameter set is %s, with Accuracy is %.4f\" % (best_param_acc, best_scores_acc))\n",
    "print(\"best parameter set is %s, with Precision is %.4f\" % (best_param_prec, best_scores_prec))\n",
    "print(\"finsied in %s seconds\" %(time.time()-start_time))"
   ]
  },
  {
   "cell_type": "code",
   "execution_count": 8,
   "metadata": {},
   "outputs": [
    {
     "data": {
      "text/plain": [
       "array([0.06745959, 0.0752548 , 0.06292007, 0.06173221, 0.036046  ,\n",
       "       0.03473335, 0.02735881, 0.04030383, 0.03338088, 0.03233428,\n",
       "       0.02782534, 0.09174652, 0.10473973, 0.17001224, 0.00583387,\n",
       "       0.01232227, 0.01352696, 0.02230979, 0.01254725, 0.00560555,\n",
       "       0.00705185, 0.00231655, 0.00745654, 0.01162194, 0.00518772,\n",
       "       0.00817213, 0.00753443, 0.00969897, 0.00296654])"
      ]
     },
     "execution_count": 8,
     "metadata": {},
     "output_type": "execute_result"
    }
   ],
   "source": [
    "rf.model.feature_importances_"
   ]
  },
  {
   "cell_type": "code",
   "execution_count": 9,
   "metadata": {},
   "outputs": [
    {
     "data": {
      "text/plain": [
       "0.17001223513721134"
      ]
     },
     "execution_count": 9,
     "metadata": {},
     "output_type": "execute_result"
    }
   ],
   "source": [
    "rf.model.feature_importances_.max()"
   ]
  },
  {
   "cell_type": "code",
   "execution_count": 11,
   "metadata": {},
   "outputs": [
    {
     "data": {
      "text/plain": [
       "array([0.06727838, 0.07473722, 0.06176634, 0.06066314, 0.03507718,\n",
       "       0.03509208, 0.02805362, 0.03882384, 0.03524727, 0.0318958 ,\n",
       "       0.02741389, 0.08390091, 0.11132468, 0.17185005, 0.00694068,\n",
       "       0.01261885, 0.01374641, 0.0232095 , 0.01321333, 0.00534401,\n",
       "       0.00711293, 0.00231876, 0.00733214, 0.01161545, 0.0048838 ,\n",
       "       0.00814273, 0.00716571, 0.01022682, 0.00300448])"
      ]
     },
     "execution_count": 11,
     "metadata": {},
     "output_type": "execute_result"
    }
   ],
   "source": [
    "rf.model.feature_importances_"
   ]
  },
  {
   "cell_type": "code",
   "execution_count": null,
   "metadata": {},
   "outputs": [],
   "source": []
  }
 ],
 "metadata": {
  "kernelspec": {
   "display_name": "Python 3",
   "language": "python",
   "name": "python3"
  },
  "language_info": {
   "codemirror_mode": {
    "name": "ipython",
    "version": 3
   },
   "file_extension": ".py",
   "mimetype": "text/x-python",
   "name": "python",
   "nbconvert_exporter": "python",
   "pygments_lexer": "ipython3",
   "version": "3.6.8"
  }
 },
 "nbformat": 4,
 "nbformat_minor": 2
}
